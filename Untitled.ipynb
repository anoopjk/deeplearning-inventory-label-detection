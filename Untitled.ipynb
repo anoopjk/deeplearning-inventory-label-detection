{
 "cells": [
  {
   "cell_type": "code",
   "execution_count": 4,
   "metadata": {
    "collapsed": false
   },
   "outputs": [
    {
     "name": "stdout",
     "output_type": "stream",
     "text": [
      "Model loaded.\n",
      "[[ 0.]]\n"
     ]
    },
    {
     "name": "stderr",
     "output_type": "stream",
     "text": [
      "vgg16finetuned_model.py:31: UserWarning: Update your `Model` call to the Keras 2 API: `Model(outputs=sigmoid.0, inputs=/input_3)`\n",
      "  model = Model(input = base_model.input, output = top_model(base_model.output))\n"
     ]
    }
   ],
   "source": [
    "from keras.preprocessing import image\n",
    "import os\n",
    "from vgg16finetuned_model import vgg16_finetuned\n",
    "from keras.applications.vgg16 import preprocess_input \n",
    "import numpy as np\n",
    "\n",
    "weights_path = 'C:/Users/Anoop/Desktop/job_applications/IFM/DeepLearning/weights/vgg16_weights.h5'\n",
    "model = vgg16_finetuned()\n",
    "model.load_weights(weights_path)\n",
    "img_width, img_height = 224, 224 # this is the model image size\n",
    "img_path = 'C:/Users/Anoop/Desktop/job_applications/IFM/testing/tile1.jpg'\n",
    "img = image.load_img(img_path, target_size=(img_width, img_height))\n",
    "x = image.img_to_array(img)\n",
    "x = np.expand_dims(x, axis=0)\n",
    "x = preprocess_input(x)\n",
    "pred = model.predict(x)\n",
    "print(pred)"
   ]
  },
  {
   "cell_type": "code",
   "execution_count": null,
   "metadata": {
    "collapsed": false
   },
   "outputs": [],
   "source": []
  },
  {
   "cell_type": "code",
   "execution_count": 5,
   "metadata": {
    "collapsed": false
   },
   "outputs": [
    {
     "name": "stdout",
     "output_type": "stream",
     "text": [
      "Model loaded.\n",
      "size conflict, exiting the prediction process\n"
     ]
    },
    {
     "name": "stderr",
     "output_type": "stream",
     "text": [
      "vgg16finetuned_model.py:31: UserWarning: Update your `Model` call to the Keras 2 API: `Model(outputs=sigmoid.0, inputs=/input_3)`\n"
     ]
    }
   ],
   "source": [
    "\n",
    "-"
   ]
  },
  {
   "cell_type": "code",
   "execution_count": 6,
   "metadata": {
    "collapsed": false,
    "scrolled": true
   },
   "outputs": [
    {
     "name": "stdout",
     "output_type": "stream",
     "text": [
      "imported\n"
     ]
    }
   ],
   "source": []
  }
 ],
 "metadata": {
  "kernelspec": {
   "display_name": "Python 2",
   "language": "python",
   "name": "python2"
  },
  "language_info": {
   "codemirror_mode": {
    "name": "ipython",
    "version": 2
   },
   "file_extension": ".py",
   "mimetype": "text/x-python",
   "name": "python",
   "nbconvert_exporter": "python",
   "pygments_lexer": "ipython2",
   "version": "2.7.11"
  }
 },
 "nbformat": 4,
 "nbformat_minor": 0
}
